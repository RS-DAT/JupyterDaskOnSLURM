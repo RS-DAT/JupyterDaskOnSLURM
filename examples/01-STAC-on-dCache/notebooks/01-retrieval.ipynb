{
 "cells": [
  {
   "cell_type": "markdown",
   "metadata": {},
   "source": [
    "# STAC Catalogs on the SURF dCache Storage"
   ]
  },
  {
   "cell_type": "markdown",
   "metadata": {},
   "source": [
    "We search for some assets in the [Sentinel-2 Open Data collection available on AWS](https://registry.opendata.aws/sentinel-2-l2a-cogs/), querying the [Earth Search STAC API end point](https://earth-search.aws.element84.com/v0):"
   ]
  },
  {
   "cell_type": "code",
   "execution_count": 1,
   "metadata": {},
   "outputs": [],
   "source": [
    "from pystac_client import Client"
   ]
  },
  {
   "cell_type": "code",
   "execution_count": 2,
   "metadata": {},
   "outputs": [],
   "source": [
    "STAC_API_URL = \"https://earth-search.aws.element84.com/v0\"\n",
    "\n",
    "client = Client.open(STAC_API_URL)\n",
    "\n",
    "# search assets\n",
    "search = client.search(    \n",
    "    collections=[\"sentinel-s2-l2a-cogs\"],\n",
    "    datetime=\"2018-03-16/2018-03-25\",\n",
    "    # query Sentinel-2 tile 5VNK\n",
    "    query=[\n",
    "        \"sentinel:utm_zone=5\",\n",
    "        \"sentinel:latitude_band=V\",\n",
    "        \"sentinel:grid_square=NK\"\n",
    "    ]\n",
    ")"
   ]
  },
  {
   "cell_type": "code",
   "execution_count": 3,
   "metadata": {},
   "outputs": [],
   "source": [
    "# get all items matching the query\n",
    "items = search.get_all_items()"
   ]
  },
  {
   "cell_type": "markdown",
   "metadata": {},
   "source": [
    "We create a STAC catalog to save the items found using [PySTAC](https://pystac.readthedocs.io/en/latest/index.html):"
   ]
  },
  {
   "cell_type": "code",
   "execution_count": 4,
   "metadata": {},
   "outputs": [],
   "source": [
    "from pystac import Catalog, Item"
   ]
  },
  {
   "cell_type": "code",
   "execution_count": 5,
   "metadata": {},
   "outputs": [
    {
     "data": {
      "text/plain": [
       "<Catalog id=s2-catalog>"
      ]
     },
     "execution_count": 5,
     "metadata": {},
     "output_type": "execute_result"
    }
   ],
   "source": [
    "# create new catalog\n",
    "catalog = Catalog(\n",
    "    id='s2-catalog',\n",
    "    description='Test catalog for Sentinel-2 data'\n",
    ")\n",
    "catalog"
   ]
  },
  {
   "cell_type": "code",
   "execution_count": 6,
   "metadata": {},
   "outputs": [
    {
     "name": "stdout",
     "output_type": "stream",
     "text": [
      "* <Catalog id=s2-catalog>\n",
      "  * <Item id=S2B_5VNK_20180325_1_L2A>\n",
      "  * <Item id=S2A_5VNK_20180324_0_L2A>\n",
      "  * <Item id=S2B_5VNK_20180322_0_L2A>\n",
      "  * <Item id=S2B_5VNK_20180319_0_L2A>\n"
     ]
    }
   ],
   "source": [
    "# add search results to catalog\n",
    "catalog.add_items(items)\n",
    "catalog.describe()"
   ]
  },
  {
   "cell_type": "markdown",
   "metadata": {},
   "source": [
    "Let's save the catalog on the dCache storage. For authentication we use a macaroon (see [here](https://github.com/sara-nl/GridScripts/blob/master/get-macaroon) for instructions on how to generate the token), but username/password authentication can aso be employed. We use [STAC2dCache](https://github.com/NLeSC-GO-common-infrastructure/stac2dcache) to provide the functionality to read/write PySTAC objects from/to the dCache storage system:  "
   ]
  },
  {
   "cell_type": "code",
   "execution_count": 7,
   "metadata": {},
   "outputs": [],
   "source": [
    "import os\n",
    "import stac2dcache\n",
    "\n",
    "token_filename = os.path.expanduser(\"~/dcache/macaroon.dat\")\n",
    "stac2dcache.configure(token_filename=token_filename)"
   ]
  },
  {
   "cell_type": "code",
   "execution_count": 8,
   "metadata": {},
   "outputs": [],
   "source": [
    "urlpath = \"https://webdav.grid.surfsara.nl:2880/pnfs/grid.sara.nl/data/eratosthenes/disk/tmp-sentinel-2-catalog\"\n",
    "\n",
    "# temporary fix to https://github.com/stac-utils/pystac/issues/666 ?\n",
    "catalog._stac_io = stac2dcache.stac_io\n",
    "catalog.normalize_and_save(\n",
    "    urlpath,\n",
    "    catalog_type='SELF_CONTAINED'\n",
    ")"
   ]
  },
  {
   "cell_type": "markdown",
   "metadata": {},
   "source": [
    "Let's now retrieve few assets from AWS, and save them to dCache. We download the original XML metadata file and one band file ('B-1') from the MSI."
   ]
  },
  {
   "cell_type": "code",
   "execution_count": 9,
   "metadata": {},
   "outputs": [],
   "source": [
    "from stac2dcache.utils import copy_asset"
   ]
  },
  {
   "cell_type": "code",
   "execution_count": 10,
   "metadata": {},
   "outputs": [],
   "source": [
    "# download assets - from web to storage\n",
    "for asset_key in ('metadata', 'B01'):\n",
    "    copy_asset(\n",
    "        catalog, \n",
    "        asset_key, \n",
    "        update_catalog=True,  # update the catalog's links to the assets  \n",
    "        filesystem_to=stac2dcache.fs,\n",
    "        max_workers=2\n",
    "    )\n",
    "    \n",
    "# save catalog with the updated links\n",
    "catalog.normalize_and_save(urlpath, catalog_type='SELF_CONTAINED')"
   ]
  },
  {
   "cell_type": "markdown",
   "metadata": {},
   "source": [
    "Note that `copy_asset` makes use of multiple (local) processes to download the data (use the `max_workers` argument to set the number of processes spawned)."
   ]
  },
  {
   "cell_type": "markdown",
   "metadata": {},
   "source": [
    "STAC2dCache also includes some utility functions to download assets from dCache to the local filesystem for further processing, as well as to load assets directly into memory (check the [notebook tutorial](https://github.com/NLeSC-GO-common-infrastructure/stac2dcache/blob/main/notebooks/tutorial.ipynb), which this notebook is based on)."
   ]
  }
 ],
 "metadata": {
  "kernelspec": {
   "display_name": "Python 3",
   "language": "python",
   "name": "python3"
  },
  "language_info": {
   "codemirror_mode": {
    "name": "ipython",
    "version": 3
   },
   "file_extension": ".py",
   "mimetype": "text/x-python",
   "name": "python",
   "nbconvert_exporter": "python",
   "pygments_lexer": "ipython3",
   "version": "3.9.7"
  }
 },
 "nbformat": 4,
 "nbformat_minor": 4
}
