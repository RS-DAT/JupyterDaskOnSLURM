{
 "cells": [
  {
   "cell_type": "code",
   "execution_count": 1,
   "id": "dbab0771-fa27-4357-b0e2-87feeb831285",
   "metadata": {},
   "outputs": [
    {
     "name": "stderr",
     "output_type": "stream",
     "text": [
      "/Users/eslt0101/mambaforge/envs/RS-DAT/lib/python3.9/site-packages/paramiko/transport.py:219: CryptographyDeprecationWarning: Blowfish has been deprecated\n",
      "  \"class\": algorithms.Blowfish,\n"
     ]
    }
   ],
   "source": [
    "import fabric\n",
    "import webbrowser\n"
   ]
  },
  {
   "cell_type": "code",
   "execution_count": 2,
   "id": "a31b7ca2-f80d-43a4-9536-edb42522deed",
   "metadata": {},
   "outputs": [],
   "source": [
    "from fabric import Connection\n"
   ]
  },
  {
   "cell_type": "code",
   "execution_count": 3,
   "id": "eab8f627-9779-4c4d-ac5d-4a72e8487a0a",
   "metadata": {},
   "outputs": [],
   "source": [
    "def construct_host(platform='spider',host='surf.nl'):\n",
    "    return ''.join([platform,'.',host])"
   ]
  },
  {
   "cell_type": "code",
   "execution_count": 4,
   "id": "6d731844-502e-41d8-91ca-105a8a4a8c60",
   "metadata": {},
   "outputs": [],
   "source": [
    "host = construct_host()\n",
    "user = 'remotesensing-mgrootes'\n",
    "keypath = '/Users/eslt0101/.ssh/id_rsa_rsdat'"
   ]
  },
  {
   "cell_type": "code",
   "execution_count": 5,
   "id": "5be67847-500f-4259-99d8-d5b6c8992ab3",
   "metadata": {},
   "outputs": [],
   "source": [
    "c = Connection(host=host,user=user,connect_kwargs={'key_filename':keypath})"
   ]
  },
  {
   "cell_type": "code",
   "execution_count": 6,
   "id": "e7a4c580-f74f-4959-8fd0-75b0a6336c65",
   "metadata": {},
   "outputs": [
    {
     "name": "stdout",
     "output_type": "stream",
     "text": [
      "total 1\n",
      "drwxrwxr-x. 6 remotesensing-mgrootes remotesensing-mgrootes 40 Sep 21 09:27 JupyterDaskOnSLURM\n",
      "-rw-rw-r--. 1 remotesensing-mgrootes remotesensing-mgrootes 24 Sep  7 16:18 test\n"
     ]
    },
    {
     "data": {
      "text/plain": [
       "<Result cmd='ls -l' exited=0>"
      ]
     },
     "execution_count": 6,
     "metadata": {},
     "output_type": "execute_result"
    }
   ],
   "source": [
    "c.run(\"ls -l\")"
   ]
  },
  {
   "cell_type": "code",
   "execution_count": 6,
   "id": "0ef3536f-fb50-4e6b-9059-abc8d09d759a",
   "metadata": {},
   "outputs": [],
   "source": [
    "a= c.run(\"cd JupyterDaskOnSLURM && sbatch ~/JupyterDaskOnSLURM/scripts/jupyter_dask_spider.bsh > currentjobid && sleep 2 && cat slurm-$(cat currentjobid | tr -dc '0-9').out | grep '/path/to/private/ssh/key' - | cut -d ' ' -f 6- - \" )"
   ]
  },
  {
   "cell_type": "code",
   "execution_count": 7,
   "id": "3f08a8c3-b641-4c59-b0cd-16966abda767",
   "metadata": {},
   "outputs": [
    {
     "name": "stdout",
     "output_type": "stream",
     "text": [
      "Submitted batch job 3002419\n"
     ]
    }
   ],
   "source": [
    "b=c.run(\"cd JupyterDaskOnSLURM && sbatch ~/JupyterDaskOnSLURM/scripts/jupyter_dask_spider.bsh\")"
   ]
  },
  {
   "cell_type": "code",
   "execution_count": 8,
   "id": "ea866357-ae93-482e-8911-f096599386dd",
   "metadata": {},
   "outputs": [],
   "source": [
    "jn =b.stdout.rstrip().split(' ')[3]"
   ]
  },
  {
   "cell_type": "code",
   "execution_count": 9,
   "id": "348c3740-61dc-49fa-91cc-1e75c732621e",
   "metadata": {},
   "outputs": [],
   "source": [
    "fn = \"slurm-\"+jn+\".out\""
   ]
  },
  {
   "cell_type": "code",
   "execution_count": 10,
   "id": "167eb597-63a7-45be-bf85-8dda79d7ae59",
   "metadata": {},
   "outputs": [
    {
     "data": {
      "text/plain": [
       "'slurm-3002419.out'"
      ]
     },
     "execution_count": 10,
     "metadata": {},
     "output_type": "execute_result"
    }
   ],
   "source": [
    "fn"
   ]
  },
  {
   "cell_type": "code",
   "execution_count": 11,
   "id": "c47533bc-e796-4f7d-8bb8-4752c6f55cca",
   "metadata": {},
   "outputs": [],
   "source": [
    "d_cmd = f\"cd JupyterDaskOnSLURM && cat {fn} | grep '/path/to/private/ssh/key' - | cut -d ' ' -f 6- - \""
   ]
  },
  {
   "cell_type": "code",
   "execution_count": 12,
   "id": "92c2d402-aab1-4db8-9317-c17424a1608e",
   "metadata": {},
   "outputs": [
    {
     "data": {
      "text/plain": [
       "\"cd JupyterDaskOnSLURM && cat slurm-3002419.out | grep '/path/to/private/ssh/key' - | cut -d ' ' -f 6- - \""
      ]
     },
     "execution_count": 12,
     "metadata": {},
     "output_type": "execute_result"
    }
   ],
   "source": [
    "d_cmd"
   ]
  },
  {
   "cell_type": "code",
   "execution_count": 13,
   "id": "3eb2a3a1-8a9d-4968-a883-356c30d4e6f5",
   "metadata": {},
   "outputs": [
    {
     "name": "stdout",
     "output_type": "stream",
     "text": [
      "8889:wn-ha-05:8888 remotesensing-mgrootes@spider.surf.nl\n"
     ]
    }
   ],
   "source": [
    "e = c.run(d_cmd)"
   ]
  },
  {
   "cell_type": "code",
   "execution_count": 15,
   "id": "d8c13125-1bcf-42a5-b493-1b878bb0c6b6",
   "metadata": {},
   "outputs": [],
   "source": [
    "forwardPortCmd = 'ssh -i '+keypath+' -N -L '+e.stdout.rstrip()+' &'"
   ]
  },
  {
   "cell_type": "code",
   "execution_count": 16,
   "id": "e455ff7d-9373-45e7-9f53-427a9f397e25",
   "metadata": {},
   "outputs": [
    {
     "data": {
      "text/plain": [
       "'ssh -i /Users/eslt0101/.ssh/id_rsa_rsdat -N -L 8889:wn-ha-05:8888 remotesensing-mgrootes@spider.surf.nl &'"
      ]
     },
     "execution_count": 16,
     "metadata": {},
     "output_type": "execute_result"
    }
   ],
   "source": [
    "forwardPortCmd"
   ]
  },
  {
   "cell_type": "code",
   "execution_count": 17,
   "id": "96bf95cb-b57f-4271-97bf-b9b25caf891e",
   "metadata": {},
   "outputs": [],
   "source": [
    "localPort = e.stdout.rstrip().split(':')[0]"
   ]
  },
  {
   "cell_type": "code",
   "execution_count": 18,
   "id": "3e220742-22cf-440e-b401-145963628747",
   "metadata": {},
   "outputs": [
    {
     "data": {
      "text/plain": [
       "'8889'"
      ]
     },
     "execution_count": 18,
     "metadata": {},
     "output_type": "execute_result"
    }
   ],
   "source": [
    "localPort\n"
   ]
  },
  {
   "cell_type": "code",
   "execution_count": 19,
   "id": "c3c4ccff-64e7-4341-b8f8-d5c33d90c163",
   "metadata": {},
   "outputs": [],
   "source": [
    "import os\n",
    "\n",
    "\n"
   ]
  },
  {
   "cell_type": "code",
   "execution_count": 20,
   "id": "7294b30f-58ac-486f-83c6-ea2e14c67a52",
   "metadata": {},
   "outputs": [
    {
     "data": {
      "text/plain": [
       "0"
      ]
     },
     "execution_count": 20,
     "metadata": {},
     "output_type": "execute_result"
    }
   ],
   "source": [
    "os.system(forwardPortCmd)"
   ]
  },
  {
   "cell_type": "code",
   "execution_count": null,
   "id": "6861a197-f662-4847-9837-a0340db01326",
   "metadata": {},
   "outputs": [],
   "source": [
    "\n",
    "    "
   ]
  },
  {
   "cell_type": "code",
   "execution_count": 21,
   "id": "76e87465-3884-413a-9907-e6904dce16ac",
   "metadata": {},
   "outputs": [],
   "source": [
    "localAddress = 'http://localhost:'+localPort"
   ]
  },
  {
   "cell_type": "code",
   "execution_count": 22,
   "id": "37db4c3f-b08c-4fed-a970-830ff9f2f572",
   "metadata": {},
   "outputs": [
    {
     "data": {
      "text/plain": [
       "True"
      ]
     },
     "execution_count": 22,
     "metadata": {},
     "output_type": "execute_result"
    }
   ],
   "source": [
    "webbrowser.open(localAddress,new=0,autoraise=True)"
   ]
  },
  {
   "cell_type": "code",
   "execution_count": null,
   "id": "4a76aef8-e71f-49d6-8327-02bf455194b9",
   "metadata": {},
   "outputs": [],
   "source": []
  },
  {
   "cell_type": "code",
   "execution_count": null,
   "id": "76c6f4de-f69a-4730-a6fd-fd44d62c99f1",
   "metadata": {},
   "outputs": [],
   "source": []
  },
  {
   "cell_type": "code",
   "execution_count": null,
   "id": "c63c6be6-8c64-4b5c-8f17-a1ac2cf06166",
   "metadata": {},
   "outputs": [],
   "source": []
  }
 ],
 "metadata": {
  "kernelspec": {
   "display_name": "RS-DAT",
   "language": "python",
   "name": "rs-dat"
  },
  "language_info": {
   "codemirror_mode": {
    "name": "ipython",
    "version": 3
   },
   "file_extension": ".py",
   "mimetype": "text/x-python",
   "name": "python",
   "nbconvert_exporter": "python",
   "pygments_lexer": "ipython3",
   "version": "3.9.13"
  }
 },
 "nbformat": 4,
 "nbformat_minor": 5
}
